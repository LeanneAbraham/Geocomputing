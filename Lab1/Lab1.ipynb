{
 "cells": [
  {
   "cell_type": "code",
   "execution_count": null,
   "metadata": {
    "collapsed": true
   },
   "outputs": [],
   "source": [
    "import math"
   ]
  },
  {
   "cell_type": "code",
   "execution_count": null,
   "metadata": {
    "collapsed": true,
    "scrolled": true
   },
   "outputs": [],
   "source": [
    "# This program calculates the area of a triangle.\n",
    "\n",
    "# This is a string that is printed when the program first runs,\n",
    "    #it tells you what the program does (ie, calculate the area of a triangle)\n",
    "print \"This program finds the area of a triangle.\"\n",
    "\n",
    "# This portion of the program creates the two variables that will be used to calculate the area of the triangle\n",
    "    #based on numerical user input\n",
    "height = input(\"Please enter the height of the triangle: \")\n",
    "base = input(\"Please enter the base length of the triangle: \")\n",
    "\n",
    "# This takes the user input of the base and the height of the triangle and finds the area (1/2bh)\n",
    "area = 0.5 * height * base\n",
    "\n",
    "# this writes the area in area in a readable sentance while reminding the user of their input\n",
    "print \"The area of a triangle with height\", height, \"and base\", base, \"is\", area, \".\""
   ]
  },
  {
   "cell_type": "code",
   "execution_count": 1,
   "metadata": {
    "scrolled": true
   },
   "outputs": [
    {
     "name": "stdout",
     "output_type": "stream",
     "text": [
      "This program finds the area of a triangle or trapezoid.\n",
      "Is this a triangle or a trapezoid? trapezoid\n",
      "Please enter the height of the trapezoid: 5\n",
      "Please enter the top base of the trapezoid: 4\n",
      "Please enter the bottom base of the trapezoid: 4\n",
      "The area of this  trapezoid  is  6  units.\n",
      "END\n"
     ]
    }
   ],
   "source": [
    "# This program calculates the area of a triangle or trapezoid.\n",
    "\n",
    "# This is a string that is printed when the program first runs,\n",
    "#it tells you what the program does (ie, calculate the area of a triangle)\n",
    "print \"This program finds the area of a triangle or trapezoid.\"\n",
    "#find out if this is a triangle or a trapezoid\n",
    "shape = raw_input(\"Is this a triangle or a trapezoid? \")\n",
    "\n",
    "#check the user input\n",
    "if (shape == \"triangle\"):\n",
    "\n",
    "    # find the base and the height of the triangle\n",
    "    height = input(\"Please enter the height of the triangle: \")\n",
    "    base = input(\"Please enter the base length of the triangle: \")\n",
    "    \n",
    "    # This takes the user input of the base and the height of the triangle and finds the area (1/2bh)\n",
    "    area = 0.5 * height * base\n",
    "    \n",
    "    # this writes the area in area in a readable sentance while reminding the user of their input\n",
    "    print \"The area of this \", shape ,\" is \", area ,\" units.\"\n",
    "    \n",
    "elif (shape == \"trapezoid\"):\n",
    "    # find the top base, bottom base, and height of the trapezoid\n",
    "    height = input(\"Please enter the height of the trapezoid: \")\n",
    "    b1 = input(\"Please enter the top base of the trapezoid: \")\n",
    "    b2 = input (\"Please enter the bottom base of the trapezoid: \")\n",
    "    \n",
    "    # This takes the user input of the top and bottom of the trapezoid and multiplies it by the height to find the area\n",
    "    area = ((b1 + b2)+height)/2\n",
    "    \n",
    "    # this writes the area of the trapezoid in readable units \n",
    "    print \"The area of this \", shape ,\" is \", area ,\" units.\"\n",
    "    \n",
    "else :\n",
    "    print \"This is not a shape\"\n",
    "\n",
    "print \"END\""
   ]
  },
  {
   "cell_type": "code",
   "execution_count": 6,
   "metadata": {},
   "outputs": [
    {
     "name": "stdout",
     "output_type": "stream",
     "text": [
      "\n",
      "----------- start program ---------\n",
      "\n",
      "Try entering an integer, float, or string value (or anything else!): fease\n",
      "\n",
      "your input is fease which has a type of <type 'str'>\n",
      "\n",
      "you entered a string value that can NOT be converted to an int or float value\n",
      "\n",
      "----------- start program ---------\n",
      "\n",
      "Try entering an integer, float, or string value (or anything else!): asdf\n",
      "\n",
      "your input is asdf which has a type of <type 'str'>\n",
      "\n",
      "you entered a string value that can NOT be converted to an int or float value\n",
      "\n",
      "----------- start program ---------\n",
      "\n",
      "Try entering an integer, float, or string value (or anything else!): asdf\n",
      "\n",
      "your input is asdf which has a type of <type 'str'>\n",
      "\n",
      "you entered a string value that can NOT be converted to an int or float value\n",
      "\n",
      "----------- start program ---------\n",
      "\n",
      "Try entering an integer, float, or string value (or anything else!): asdf\n",
      "\n",
      "your input is asdf which has a type of <type 'str'>\n",
      "\n",
      "you entered a string value that can NOT be converted to an int or float value\n"
     ]
    }
   ],
   "source": [
    "'''\n",
    "This program demonstrates an example to convert the input value into a numeric \n",
    "\ttype. It keeps asking the user for a convertible value until a successful \n",
    "\tconversion is made or after 4 times.\n",
    "'''\n",
    "\n",
    "loopCount = 0\n",
    "# The \"while\" statement keeps looping until its condition (loopCount<4) made False. \n",
    "while loopCount<4:\n",
    "    # loopCount will increase 1 for each loop\n",
    "    loopCount += 1\n",
    "\t\n",
    "    print '\\n----------- start program ---------'\n",
    "    \n",
    "    #the variable a is assigned a string value of whatever the user enters\n",
    "    a = raw_input('\\nTry entering an integer, float, or string value (or anything else!): ')     \n",
    "\n",
    "    # try statement attempts to execute each statement below.\n",
    "    # if try statement failed, it skips the remaining part and jumps to the except statement\n",
    "    try:                                \n",
    "        print '\\nyour input is',a, 'which has a type of',type(a)\n",
    "        \n",
    "        # the float function attempts to convert the value of variable \"a\" into a float type\n",
    "        a = float(a)      \n",
    "\n",
    "        # If the conversion was successful, \"a\" becomes a numeric type, \n",
    "        # \twhich could be used in any further calculation.\n",
    "        # The while loop breaks after that.\n",
    "        print '\\nAfter a succssful conversion, the type of \"a\" is now: ',a, type(a)\n",
    "        break \n",
    "        \n",
    "    # If the conversion failed, the except statement will give an error message\n",
    "    # \tand continue to a new loop.\n",
    "    except:         \n",
    "        print '\\nyou entered a string value that can NOT be converted to an int or float value'"
   ]
  },
  {
   "cell_type": "code",
   "execution_count": 5,
   "metadata": {},
   "outputs": [
    {
     "ename": "SyntaxError",
     "evalue": "invalid syntax (<ipython-input-5-d1929d2c278c>, line 45)",
     "output_type": "error",
     "traceback": [
      "\u001b[1;36m  File \u001b[1;32m\"<ipython-input-5-d1929d2c278c>\"\u001b[1;36m, line \u001b[1;32m45\u001b[0m\n\u001b[1;33m    except :\u001b[0m\n\u001b[1;37m         ^\u001b[0m\n\u001b[1;31mSyntaxError\u001b[0m\u001b[1;31m:\u001b[0m invalid syntax\n"
     ]
    }
   ],
   "source": [
    "#set loop count to zero and increase each time the loop is run (ie, the program conditions are unmet by the user input)\n",
    "loopCount = 0\n",
    "# The \"while\" statement keeps looping until its condition (loopCount<4) made False. \n",
    "while loopCount<4:\n",
    "    # loopCount will increase 1 for each loop\n",
    "    loopCount += 1\n",
    "\n",
    "    # This program calculates the area of a triangle or trapezoid.\n",
    "\n",
    "    # This is a string that is printed when the program first runs,\n",
    "    #it tells you what the program does (ie, calculate the area of a triangle)\n",
    "    print \"This program finds the area of a triangle or trapezoid.\"\n",
    "    #find out if this is a triangle or a trapezoid\n",
    "    shape = raw_input(\"Is this a triangle or a trapezoid? \")\n",
    "\n",
    "    #check the user input\n",
    "    if (shape == \"triangle\"):\n",
    "\n",
    "        # find the base and the height of the triangle\n",
    "        height = input(\"Please enter the height of the triangle: \")\n",
    "        base = input(\"Please enter the base length of the triangle: \")\n",
    "\n",
    "        # This takes the user input of the base and the height of the triangle and finds the area (1/2bh)\n",
    "        area = 0.5 * height * base\n",
    "\n",
    "        # this writes the area in area in a readable sentance while reminding the user of their input\n",
    "        print \"The area of this \", shape ,\" is \", area ,\" units.\"\n",
    "\n",
    "    else :\n",
    "        # find the top base, bottom base, and height of the trapezoid\n",
    "        height = input(\"Please enter the height of the trapezoid: \")\n",
    "        b1 = input(\"Please enter the top base of the trapezoid: \")\n",
    "        b2 = input (\"Please enter the bottom base of the trapezoid: \")\n",
    "\n",
    "        # This takes the user input of the top and bottom of the trapezoid and multiplies it by the height to find the area\n",
    "        area = ((b1 + b2)+height)/2\n",
    "\n",
    "        # this writes the area of the trapezoid in readable units \n",
    "        print \"The area of this \", shape ,\" is \", area ,\" units.\"\n",
    "\n",
    "    print \"END\"\n",
    "\n",
    "    # If the user does not provide a triangle or a trapezoid the program will give them another chance\n",
    "    # \tand continue to a new loop.\n",
    "    except :         \n",
    "        print 'please enter either \"triangle\" or \"trapizod\" to continue'"
   ]
  },
  {
   "cell_type": "code",
   "execution_count": null,
   "metadata": {
    "collapsed": true
   },
   "outputs": [],
   "source": []
  }
 ],
 "metadata": {
  "kernelspec": {
   "display_name": "Python 2",
   "language": "python",
   "name": "python2"
  },
  "language_info": {
   "codemirror_mode": {
    "name": "ipython",
    "version": 2
   },
   "file_extension": ".py",
   "mimetype": "text/x-python",
   "name": "python",
   "nbconvert_exporter": "python",
   "pygments_lexer": "ipython2",
   "version": "2.7.13"
  }
 },
 "nbformat": 4,
 "nbformat_minor": 2
}
