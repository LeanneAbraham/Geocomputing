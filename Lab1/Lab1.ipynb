{
 "cells": [
  {
   "cell_type": "code",
   "execution_count": 1,
   "metadata": {},
   "outputs": [
    {
     "name": "stdout",
     "output_type": "stream",
     "text": [
      "This program finds the area of a triangle.\n",
      "\n",
      "Please enter the height of the triangle: 5\n",
      "Please enter the base length of the triangle: 5\n",
      "The area of a triangle with height 5 and base 5 is 12.5 .\n"
     ]
    }
   ],
   "source": [
    "# This program calculates the area of a triangle.\n",
    "\n",
    "# This is a string that is printed when the program first runs,\n",
    "    #it tells you what the program does (ie, calculate the area of a triangle)\n",
    "print \"This program finds the area of a triangle.\"\n",
    "print \t\n",
    "\n",
    "# This portion of the program creates the two variables that will be used to calculate the area of the triangle\n",
    "    #based on numerical user input\n",
    "    #\n",
    "height = input(\"Please enter the height of the triangle: \")\n",
    "base = input(\"Please enter the base length of the triangle: \")\n",
    "\n",
    "# [explain]\n",
    "area = 0.5 * height * base\n",
    "\n",
    "# [explain]\n",
    "print \"The area of a triangle with height\", height, \"and base\", base, \"is\", area, \".\""
   ]
  },
  {
   "cell_type": "code",
   "execution_count": null,
   "metadata": {
    "collapsed": true
   },
   "outputs": [],
   "source": []
  }
 ],
 "metadata": {
  "kernelspec": {
   "display_name": "Python 2",
   "language": "python",
   "name": "python2"
  },
  "language_info": {
   "codemirror_mode": {
    "name": "ipython",
    "version": 2
   },
   "file_extension": ".py",
   "mimetype": "text/x-python",
   "name": "python",
   "nbconvert_exporter": "python",
   "pygments_lexer": "ipython2",
   "version": "2.7.13"
  }
 },
 "nbformat": 4,
 "nbformat_minor": 2
}
