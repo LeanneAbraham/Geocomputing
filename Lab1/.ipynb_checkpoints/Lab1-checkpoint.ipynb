{
 "cells": [
  {
   "cell_type": "code",
   "execution_count": null,
   "metadata": {
    "collapsed": true
   },
   "outputs": [],
   "source": [
    "import math"
   ]
  },
  {
   "cell_type": "code",
   "execution_count": null,
   "metadata": {
    "collapsed": true,
    "scrolled": true
   },
   "outputs": [],
   "source": [
    "# This program calculates the area of a triangle.\n",
    "\n",
    "# This is a string that is printed when the program first runs,\n",
    "    #it tells you what the program does (ie, calculate the area of a triangle)\n",
    "print \"This program finds the area of a triangle.\"\n",
    "\n",
    "# This portion of the program creates the two variables that will be used to calculate the area of the triangle\n",
    "    #based on numerical user input\n",
    "height = input(\"Please enter the height of the triangle: \")\n",
    "base = input(\"Please enter the base length of the triangle: \")\n",
    "\n",
    "# This takes the user input of the base and the height of the triangle and finds the area (1/2bh)\n",
    "area = 0.5 * height * base\n",
    "\n",
    "# this writes the area in area in a readable sentance while reminding the user of their input\n",
    "print \"The area of a triangle with height\", height, \"and base\", base, \"is\", area, \".\""
   ]
  },
  {
   "cell_type": "code",
   "execution_count": 1,
   "metadata": {
    "scrolled": true
   },
   "outputs": [
    {
     "name": "stdout",
     "output_type": "stream",
     "text": [
      "This program finds the area of a triangle or trapezoid.\n",
      "Is this a triangle or a trapezoid? trapezoid\n",
      "Please enter the height of the trapezoid: 5\n",
      "Please enter the top base of the trapezoid: 4\n",
      "Please enter the bottom base of the trapezoid: 4\n",
      "The area of this  trapezoid  is  6  units.\n",
      "END\n"
     ]
    }
   ],
   "source": [
    "# This program calculates the area of a triangle or trapezoid.\n",
    "\n",
    "# This is a string that is printed when the program first runs,\n",
    "#it tells you what the program does (ie, calculate the area of a triangle)\n",
    "print \"This program finds the area of a triangle or trapezoid.\"\n",
    "#find out if this is a triangle or a trapezoid\n",
    "shape = raw_input(\"Is this a triangle or a trapezoid? \")\n",
    "\n",
    "#check the user input\n",
    "if (shape == \"triangle\"):\n",
    "\n",
    "    # find the base and the height of the triangle\n",
    "    height = input(\"Please enter the height of the triangle: \")\n",
    "    base = input(\"Please enter the base length of the triangle: \")\n",
    "    \n",
    "    # This takes the user input of the base and the height of the triangle and finds the area (1/2bh)\n",
    "    area = 0.5 * height * base\n",
    "    \n",
    "    # this writes the area in area in a readable sentance while reminding the user of their input\n",
    "    print \"The area of this \", shape ,\" is \", area ,\" units.\"\n",
    "    \n",
    "elif (shape == \"trapezoid\"):\n",
    "    # find the top base, bottom base, and height of the trapezoid\n",
    "    height = input(\"Please enter the height of the trapezoid: \")\n",
    "    b1 = input(\"Please enter the top base of the trapezoid: \")\n",
    "    b2 = input (\"Please enter the bottom base of the trapezoid: \")\n",
    "    \n",
    "    # This takes the user input of the top and bottom of the trapezoid and multiplies it by the height to find the area\n",
    "    area = ((b1 + b2)+height)/2\n",
    "    \n",
    "    # this writes the area of the trapezoid in readable units \n",
    "    print \"The area of this \", shape ,\" is \", area ,\" units.\"\n",
    "    \n",
    "else :\n",
    "    print \"This is not a shape\"\n",
    "\n",
    "print \"END\""
   ]
  },
  {
   "cell_type": "code",
   "execution_count": null,
   "metadata": {
    "collapsed": true
   },
   "outputs": [],
   "source": [
    "# This program calculates the area of a triangle or trapezoid.\n",
    "\n",
    "# This is a string that is printed when the program first runs,\n",
    "#it tells you what the program does (ie, calculate the area of a triangle)\n",
    "print \"This program finds the area of a triangle or trapezoid.\"\n",
    "#find out if this is a triangle or a trapezoid\n",
    "shape = raw_input(\"Is this a triangle or a trapezoid? \")\n",
    "\n",
    "#check the user input\n",
    "if (shape == \"triangle\"):\n",
    "\n",
    "    # find the base and the height of the triangle\n",
    "    height = input(\"Please enter the height of the triangle: \")\n",
    "    base = input(\"Please enter the base length of the triangle: \")\n",
    "    \n",
    "    # This takes the user input of the base and the height of the triangle and finds the area (1/2bh)\n",
    "    area = 0.5 * height * base\n",
    "    \n",
    "    # this writes the area in area in a readable sentance while reminding the user of their input\n",
    "    print \"The area of this \", shape ,\" is \", area ,\" units.\"\n",
    "    \n",
    "elif (shape == \"trapezoid\"):\n",
    "    # find the top base, bottom base, and height of the trapezoid\n",
    "    height = input(\"Please enter the height of the trapezoid: \")\n",
    "    b1 = input(\"Please enter the top base of the trapezoid: \")\n",
    "    b2 = input (\"Please enter the bottom base of the trapezoid: \")\n",
    "    \n",
    "    # This takes the user input of the top and bottom of the trapezoid and multiplies it by the height to find the area\n",
    "    area = ((b1 + b2)+height)/2\n",
    "    \n",
    "    # this writes the area of the trapezoid in readable units \n",
    "    print \"The area of this \", shape ,\" is \", area ,\" units.\"\n",
    "    \n",
    "else :\n",
    "    print \"This is not a shape\"\n",
    "\n",
    "print \"END\""
   ]
  }
 ],
 "metadata": {
  "kernelspec": {
   "display_name": "Python 2",
   "language": "python",
   "name": "python2"
  },
  "language_info": {
   "codemirror_mode": {
    "name": "ipython",
    "version": 2
   },
   "file_extension": ".py",
   "mimetype": "text/x-python",
   "name": "python",
   "nbconvert_exporter": "python",
   "pygments_lexer": "ipython2",
   "version": "2.7.13"
  }
 },
 "nbformat": 4,
 "nbformat_minor": 2
}
