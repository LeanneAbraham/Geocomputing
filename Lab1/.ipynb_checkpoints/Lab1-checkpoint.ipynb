{
 "cells": [
  {
   "cell_type": "code",
   "execution_count": 1,
   "metadata": {
    "collapsed": true
   },
   "outputs": [],
   "source": [
    "import math"
   ]
  },
  {
   "cell_type": "code",
   "execution_count": 2,
   "metadata": {
    "scrolled": true
   },
   "outputs": [
    {
     "name": "stdout",
     "output_type": "stream",
     "text": [
      "This program finds the area of a triangle.\n",
      "Please enter the height of the triangle: 5\n",
      "Please enter the base length of the triangle: 5\n",
      "The area of a triangle with height 5 and base 5 is 12.5 .\n"
     ]
    }
   ],
   "source": [
    "# This program calculates the area of a triangle.\n",
    "\n",
    "# This is a string that is printed when the program first runs,\n",
    "    #it tells you what the program does (ie, calculate the area of a triangle)\n",
    "print \"This program finds the area of a triangle.\"\n",
    "\n",
    "# This portion of the program creates the two variables that will be used to calculate the area of the triangle\n",
    "    #based on numerical user input\n",
    "height = input(\"Please enter the height of the triangle: \")\n",
    "base = input(\"Please enter the base length of the triangle: \")\n",
    "\n",
    "# This takes the user input of the base and the height of the triangle and finds the area (1/2bh)\n",
    "area = 0.5 * height * base\n",
    "\n",
    "# this writes the area in area in a readable sentance while reminding the user of their input\n",
    "print \"The area of a triangle with height\", height, \"and base\", base, \"is\", area, \".\""
   ]
  },
  {
   "cell_type": "code",
   "execution_count": null,
   "metadata": {
    "scrolled": true
   },
   "outputs": [
    {
     "name": "stdout",
     "output_type": "stream",
     "text": [
      "This program finds the area of a triangle or trapezoid.\n",
      "Is this a triangle or a trapezoid? triangle\n",
      "Please enter the height of the triangle: 4\n",
      "Please enter the base length of the triangle: 5\n",
      "The area of this  triangle  is  10.0  units.\n",
      "END\n"
     ]
    }
   ],
   "source": [
    "# This program calculates the area of a triangle or trapezoid.\n",
    "\n",
    "# This is a string that is printed when the program first runs,\n",
    "#it tells you what the program does (ie, calculate the area of a triangle)\n",
    "print \"This program finds the area of a triangle or trapezoid.\"\n",
    "#find out if this is a triangle or a trapezoid\n",
    "shape = raw_input(\"Is this a triangle or a trapezoid? \")\n",
    "\n",
    "#check the user input\n",
    "if (shape == \"triangle\"):\n",
    "\n",
    "    # find the base and the height of the triangle\n",
    "    height = input(\"Please enter the height of the triangle: \")\n",
    "    base = input(\"Please enter the base length of the triangle: \")\n",
    "    \n",
    "    # This takes the user input of the base and the height of the triangle and finds the area (1/2bh)\n",
    "    area = 0.5 * height * base\n",
    "    \n",
    "    # this writes the area in area in a readable sentance while reminding the user of their input\n",
    "    print \"The area of this \", shape ,\" is \", area ,\" units.\"\n",
    "    \n",
    "elif (shape == \"trapezoid\"):\n",
    "    # find the top base, bottom base, and height of the trapezoid\n",
    "    height = input(\"Please enter the height of the trapezoid: \")\n",
    "    b1 = input(\"Please enter the top base of the trapezoid: \")\n",
    "    b2 = input (\"Please enter the bottom base of the trapezoid: \")\n",
    "    \n",
    "    # This takes the user input of the top and bottom of the trapezoid and multiplies it by the height to find the area\n",
    "    area = ((b1 + b2)+height)/2\n",
    "    \n",
    "    # this writes the area of the trapezoid in readable units \n",
    "    print \"The area of this \", shape ,\" is \", area ,\" units.\"\n",
    "    \n",
    "else :\n",
    "    print \"This is not a shape\"\n",
    "\n",
    "print \"END\""
   ]
  },
  {
   "cell_type": "code",
   "execution_count": 4,
   "metadata": {},
   "outputs": [
    {
     "name": "stdout",
     "output_type": "stream",
     "text": [
      "This program finds the area of a triangle or trapezoid.\n",
      "Is this a triangle or a trapezoid? asdf\n",
      "\n",
      "This is not a shape\n",
      "please enter either \"triangle\" or \"trapezoid\" to continue\n",
      "\n",
      "Is this a triangle or a trapezoid? asdf\n",
      "\n",
      "This is not a shape\n",
      "please enter either \"triangle\" or \"trapezoid\" to continue\n",
      "\n",
      "Is this a triangle or a trapezoid? asdf\n",
      "\n",
      "This is not a shape\n",
      "please enter either \"triangle\" or \"trapezoid\" to continue\n",
      "\n",
      "You failed to provide a shape, the program has failed\n"
     ]
    }
   ],
   "source": [
    " # This program calculates the area of a triangle or trapezoid.\n",
    "\n",
    "# This is a string that is printed when the program first runs,\n",
    "#it tells you what the program does (ie, calculate the area of a triangle)\n",
    "print \"This program finds the area of a triangle or trapezoid.\"\n",
    "\n",
    "#set loop count to zero and increase each time the loop is run (ie, the program conditions are unmet by the user input)\n",
    "loopCount = 0\n",
    "# The \"while\" statement keeps looping until its condition (loopCount<4) made False. \n",
    "while loopCount<4:\n",
    "    # loopCount will increase 1 for each loop\n",
    "    loopCount += 1\n",
    "    \n",
    "    if (loopCount == 4):\n",
    "        print \"You failed to provide a shape, the program has failed\"\n",
    "        \n",
    "    else:\n",
    "\n",
    "        #find out if this is a triangle or a trapezoid\n",
    "        shape = raw_input(\"Is this a triangle or a trapezoid? \")\n",
    "\n",
    "        try:\n",
    "            #check the user input\n",
    "            if (shape == \"triangle\"):\n",
    "\n",
    "                # find the base and the height of the triangle\n",
    "                height = input(\"Please enter the height of the triangle: \")\n",
    "                base = input(\"Please enter the base length of the triangle: \")\n",
    "\n",
    "                # This takes the user input of the base and the height of the triangle and finds the area (1/2bh)\n",
    "                area = 0.5 * height * base\n",
    "\n",
    "                # this writes the area in area in a readable sentance while reminding the user of their input\n",
    "                print \"The area of this \", shape ,\" is \", area ,\" units.\"\n",
    "                break\n",
    "\n",
    "            elif (shape == \"trapezoid\"):\n",
    "                # find the top base, bottom base, and height of the trapezoid\n",
    "                height = input(\"Please enter the height of the trapezoid: \")\n",
    "                b1 = input(\"Please enter the top base of the trapezoid: \")\n",
    "                b2 = input (\"Please enter the bottom base of the trapezoid: \")\n",
    "\n",
    "                # This takes the user input of the top and bottom of the trapezoid and multiplies it by the height to find the area\n",
    "                area = ((b1 + b2)+height)/2\n",
    "\n",
    "                # this writes the area of the trapezoid in readable units \n",
    "                print \"The area of this \", shape ,\" is \", area ,\" units.\"\n",
    "                break\n",
    "\n",
    "            else :\n",
    "                print \"\\nThis is not a shape\"\n",
    "                print 'please enter either \"triangle\" or \"trapezoid\" to continue\\n'\n",
    "\n",
    "        # If the user does not provide a triangle or a trapezoid the program will give them another chance\n",
    "        # \tand continue to a new loop.\n",
    "        #it never gets to this point becuase of the elif\n",
    "        except:\n",
    "            print 'nothing'"
   ]
  },
  {
   "cell_type": "code",
   "execution_count": null,
   "metadata": {
    "collapsed": true
   },
   "outputs": [],
   "source": []
  },
  {
   "cell_type": "code",
   "execution_count": null,
   "metadata": {
    "collapsed": true
   },
   "outputs": [],
   "source": []
  }
 ],
 "metadata": {
  "kernelspec": {
   "display_name": "Python 2",
   "language": "python",
   "name": "python2"
  },
  "language_info": {
   "codemirror_mode": {
    "name": "ipython",
    "version": 2
   },
   "file_extension": ".py",
   "mimetype": "text/x-python",
   "name": "python",
   "nbconvert_exporter": "python",
   "pygments_lexer": "ipython2",
   "version": "2.7.13"
  }
 },
 "nbformat": 4,
 "nbformat_minor": 2
}
