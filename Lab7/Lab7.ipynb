{
 "cells": [
  {
   "cell_type": "code",
   "execution_count": 4,
   "metadata": {},
   "outputs": [
    {
     "data": {
      "text/plain": [
       "<Result 'C:\\\\Users\\\\lfabr\\\\OneDrive - UW-Madison\\\\School\\\\Madison\\\\courses\\\\2017-03-Fall\\\\GEOG 378\\\\labs\\\\Lab7\\\\data\\\\lab7geodatabase.gdb\\\\powerline_intersect'>"
      ]
     },
     "execution_count": 4,
     "metadata": {},
     "output_type": "execute_result"
    }
   ],
   "source": [
    "##Task 1##\n",
    "\n",
    "import arcpy\n",
    "\n",
    "# set up working environment\n",
    "arcpy.env.workspace = r\"C:\\Users\\lfabr\\OneDrive - UW-Madison\\School\\Madison\\\\\n",
    "courses\\2017-03-Fall\\GEOG 378\\labs\\Lab7\\data\\lab7geodatabase.gdb\"\n",
    "arcpy.env.overwriteOutput = True\n",
    "\n",
    "# set feature class name\n",
    "powerline = \"powerline2\"\n",
    "parcels = \"parcels2\"\n",
    "\n",
    "#create output places\n",
    "powerlineBuffer = r\"C:\\Users\\lfabr\\OneDrive - UW-Madison\\School\\Madison\\courses\\2017-03-Fall\\\\\n",
    "GEOG 378\\labs\\Lab7\\data\\lab7geodatabase.gdb\\powerline_buffer\"\n",
    "\n",
    "# buffer analysis\n",
    "# the buffer analysis requires the input to be a feature layer\n",
    "arcpy.MakeFeatureLayer_management(powerline, \"powerline_lyr\")\n",
    "\n",
    " # can add more optional parameters \n",
    "arcpy.Buffer_analysis(\"powerline_lyr\", powerlineBuffer, \"250 feet\")\n",
    "\n",
    "# select feature by location\n",
    "arcpy.MakeFeatureLayer_management(parcels,\"parcels_lyr\")\n",
    "\n",
    "#create layer for buffer output\n",
    "arcpy.MakeFeatureLayer_management(powerlineBuffer,\"powerline_buffer_lyr\")\n",
    "\n",
    "#select the parcels that are completely within the buffer\n",
    "arcpy.SelectLayerByLocation_management(\"parcels_lyr\",\"COMPLETELY_WITHIN\",\"powerline_buffer_lyr\")\n",
    "\n",
    "# create output feature class \n",
    "sr = arcpy.Describe(\"powerline_buffer_lyr\").spatialReference\n",
    "\n",
    "# add selection to output feature class\n",
    "arcpy.CreateFeatureclass_management(arcpy.env.workspace, \"powerline_intersect\", \"POLYGON\", parcels, \"SAME_AS_TEMPLATE\", \"SAME_AS_TEMPLATE\", sr)\n",
    "\n",
    "arcpy.Append_management(\"parcels_lyr\",\"powerline_intersect\")\n",
    "\n"
   ]
  },
  {
   "cell_type": "code",
   "execution_count": 13,
   "metadata": {},
   "outputs": [
    {
     "name": "stdout",
     "output_type": "stream",
     "text": [
      "1\n",
      "None\n",
      "TIFF\n",
      "1700 1983\n"
     ]
    },
    {
     "ename": "ExecuteError",
     "evalue": "Failed to execute. Parameters are not valid.\nERROR 000732: Input Raster Dataset: Dataset Slope_elevation2.tif does not exist or is not supported\nFailed to execute (CalculateStatistics).\n",
     "output_type": "error",
     "traceback": [
      "\u001b[1;31m---------------------------------------------------------------------------\u001b[0m",
      "\u001b[1;31mExecuteError\u001b[0m                              Traceback (most recent call last)",
      "\u001b[1;32m<ipython-input-13-93619bdd5e55>\u001b[0m in \u001b[0;36m<module>\u001b[1;34m()\u001b[0m\n\u001b[0;32m     23\u001b[0m \u001b[1;33m\u001b[0m\u001b[0m\n\u001b[0;32m     24\u001b[0m \u001b[1;31m#get min and max\u001b[0m\u001b[1;33m\u001b[0m\u001b[1;33m\u001b[0m\u001b[0m\n\u001b[1;32m---> 25\u001b[1;33m \u001b[0marcpy\u001b[0m\u001b[1;33m.\u001b[0m\u001b[0mCalculateStatistics_management\u001b[0m\u001b[1;33m(\u001b[0m\u001b[0mslope\u001b[0m\u001b[1;33m)\u001b[0m\u001b[1;33m\u001b[0m\u001b[0m\n\u001b[0m\u001b[0;32m     26\u001b[0m \u001b[0mMINResult\u001b[0m \u001b[1;33m=\u001b[0m \u001b[0marcpy\u001b[0m\u001b[1;33m.\u001b[0m\u001b[0mGetRasterProperties_management\u001b[0m\u001b[1;33m(\u001b[0m\u001b[0mslope\u001b[0m\u001b[1;33m,\u001b[0m \u001b[1;34m\"MINIMUM\"\u001b[0m\u001b[1;33m)\u001b[0m\u001b[1;33m\u001b[0m\u001b[0m\n\u001b[0;32m     27\u001b[0m \u001b[0mzMin\u001b[0m \u001b[1;33m=\u001b[0m \u001b[0mfloat\u001b[0m\u001b[1;33m(\u001b[0m\u001b[0mMINResult\u001b[0m\u001b[1;33m.\u001b[0m\u001b[0mgetOutput\u001b[0m\u001b[1;33m(\u001b[0m\u001b[1;36m0\u001b[0m\u001b[1;33m)\u001b[0m\u001b[1;33m)\u001b[0m\u001b[1;33m\u001b[0m\u001b[0m\n",
      "\u001b[1;32mC:\\Program Files (x86)\\ArcGIS\\Desktop10.5\\ArcPy\\arcpy\\management.py\u001b[0m in \u001b[0;36mCalculateStatistics\u001b[1;34m(in_raster_dataset, x_skip_factor, y_skip_factor, ignore_values, skip_existing, area_of_interest)\u001b[0m\n\u001b[0;32m  16475\u001b[0m         \u001b[1;32mreturn\u001b[0m \u001b[0mretval\u001b[0m\u001b[1;33m\u001b[0m\u001b[0m\n\u001b[0;32m  16476\u001b[0m     \u001b[1;32mexcept\u001b[0m \u001b[0mException\u001b[0m \u001b[1;32mas\u001b[0m \u001b[0me\u001b[0m\u001b[1;33m:\u001b[0m\u001b[1;33m\u001b[0m\u001b[0m\n\u001b[1;32m> 16477\u001b[1;33m         \u001b[1;32mraise\u001b[0m \u001b[0me\u001b[0m\u001b[1;33m\u001b[0m\u001b[0m\n\u001b[0m\u001b[0;32m  16478\u001b[0m \u001b[1;33m\u001b[0m\u001b[0m\n\u001b[0;32m  16479\u001b[0m \u001b[1;33m@\u001b[0m\u001b[0mgptooldoc\u001b[0m\u001b[1;33m(\u001b[0m\u001b[1;34m'DeleteColormap_management'\u001b[0m\u001b[1;33m,\u001b[0m \u001b[0mNone\u001b[0m\u001b[1;33m)\u001b[0m\u001b[1;33m\u001b[0m\u001b[0m\n",
      "\u001b[1;31mExecuteError\u001b[0m: Failed to execute. Parameters are not valid.\nERROR 000732: Input Raster Dataset: Dataset Slope_elevation2.tif does not exist or is not supported\nFailed to execute (CalculateStatistics).\n"
     ]
    }
   ],
   "source": [
    "## Task 2 ##\n",
    "import arcpy\n",
    "import os\n",
    "arcpy.CheckOutExtension(\"Spatial\")\n",
    "\n",
    "arcpy.env.workspace =  r\"C:\\Users\\lfabr\\OneDrive - UW-Madison\\School\\Madison\\\\\n",
    "courses\\2017-03-Fall\\GEOG 378\\labs\\Lab7\\data\"\n",
    "\n",
    "# describe raster\n",
    "desc = arcpy.Describe('elevation.tif')\n",
    "print desc.bandCount\n",
    "print desc.compressionType\n",
    "print desc.format\n",
    "rows = desc.height\n",
    "cols = desc.width\n",
    "\n",
    "print rows, cols\n",
    "\n",
    "#calculate slope\n",
    "inraster = arcpy.Raster(\"elevation.tif\")\n",
    "outraster = arcpy.sa.Slope(\"elevation.tif\")\n",
    "\n",
    "slope = 'Slope_elevation2.tif'\n",
    "\n",
    "#get min and max\n",
    "arcpy.CalculateStatistics_management(slope)\n",
    "MINResult = arcpy.GetRasterProperties_management(slope, \"MINIMUM\")\n",
    "zMin = float(MINResult.getOutput(0))\n",
    "MAXResult = arcpy.GetRasterProperties_management(slope, \"MAXIMUM\")\n",
    "zMax = float(MAXResult.getOutput(0))\n",
    "\n",
    "# create output\n",
    "outName = 'SlopeColored.tif'\n",
    "if os.path.exists(outName):\n",
    "     os.remove(outName)\n",
    "\n",
    "#create raster of scaled elevations\n",
    "f = ((inraster -zMin)/(zMax-zMin))\n",
    "#create the red raster\n",
    "R = 255* (inraster/inraster)\n",
    "#green and blue raster values are identical\n",
    "G = f * 255\n",
    "B = f * 255\n",
    " \n",
    "#Compose single band datasets to a TIFF format raster file\n",
    "arcpy.CompositeBands_management(str(R)+';'+str(G)+';'+str(B),outName)"
   ]
  },
  {
   "cell_type": "code",
   "execution_count": null,
   "metadata": {},
   "outputs": [],
   "source": []
  }
 ],
 "metadata": {
  "kernelspec": {
   "display_name": "Python 2",
   "language": "python",
   "name": "python2"
  },
  "language_info": {
   "codemirror_mode": {
    "name": "ipython",
    "version": 2
   },
   "file_extension": ".py",
   "mimetype": "text/x-python",
   "name": "python",
   "nbconvert_exporter": "python",
   "pygments_lexer": "ipython2",
   "version": "2.7.13"
  }
 },
 "nbformat": 4,
 "nbformat_minor": 2
}
