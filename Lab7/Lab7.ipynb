{
 "cells": [
  {
   "cell_type": "code",
   "execution_count": 2,
   "metadata": {},
   "outputs": [
    {
     "data": {
      "text/plain": [
       "<Result 'C:\\\\Users\\\\lfabr\\\\OneDrive - UW-Madison\\\\School\\\\Madison\\\\courses\\\\2017-03-Fall\\\\GEOG 378\\\\labs\\\\Lab7\\\\data\\\\lab7geodatabase.gdb\\\\powerline_intersect'>"
      ]
     },
     "execution_count": 2,
     "metadata": {},
     "output_type": "execute_result"
    }
   ],
   "source": [
    "##Task 1##\n",
    "\n",
    "import arcpy\n",
    "\n",
    "# set up working environment\n",
    "arcpy.env.workspace = r\"C:\\Users\\lfabr\\OneDrive - UW-Madison\\School\\Madison\\courses\\2017-03-Fall\\GEOG 378\\labs\\Lab7\\data\\lab7geodatabase.gdb\"\n",
    "arcpy.env.overwriteOutput = True\n",
    "\n",
    "# set feature class name\n",
    "powerline = \"powerline2\"\n",
    "parcels = \"parcels2\"\n",
    "\n",
    "#create output places\n",
    "powerlineBuffer = r\"C:\\Users\\lfabr\\OneDrive - UW-Madison\\School\\Madison\\courses\\2017-03-Fall\\GEOG 378\\labs\\Lab7\\data\\lab7geodatabase.gdb\\powerline_buffer\"\n",
    "\n",
    "# buffer analysis\n",
    "# the buffer analysis requires the input to be a feature layer\n",
    "arcpy.MakeFeatureLayer_management(powerline, \"powerline_lyr\")\n",
    "\n",
    " # can add more optional parameters \n",
    "arcpy.Buffer_analysis(\"powerline_lyr\", powerlineBuffer, \"250 feet\")\n",
    "\n",
    "# select feature by location\n",
    "arcpy.MakeFeatureLayer_management(parcels,\"parcels_lyr\")\n",
    "\n",
    "#create layer for buffer output\n",
    "arcpy.MakeFeatureLayer_management(powerlineBuffer,\"powerline_buffer_lyr\")\n",
    "\n",
    "#select the parcels that are completely within the buffer\n",
    "arcpy.SelectLayerByLocation_management(\"parcels_lyr\",\"COMPLETELY_WITHIN\",\"powerline_buffer_lyr\")\n",
    "\n",
    "# create output feature class \n",
    "sr = arcpy.Describe(\"powerline_buffer_lyr\").spatialReference\n",
    "\n",
    "# add selection to output feature class\n",
    "arcpy.CreateFeatureclass_management(arcpy.env.workspace, \"powerline_intersect\", \"POLYGON\", parcels, \"SAME_AS_TEMPLATE\", \"SAME_AS_TEMPLATE\", sr)\n",
    "\n",
    "arcpy.Append_management(\"parcels_lyr\",\"powerline_intersect\")\n",
    "\n"
   ]
  },
  {
   "cell_type": "code",
   "execution_count": null,
   "metadata": {},
   "outputs": [],
   "source": []
  }
 ],
 "metadata": {
  "kernelspec": {
   "display_name": "Python 2",
   "language": "python",
   "name": "python2"
  },
  "language_info": {
   "codemirror_mode": {
    "name": "ipython",
    "version": 2
   },
   "file_extension": ".py",
   "mimetype": "text/x-python",
   "name": "python",
   "nbconvert_exporter": "python",
   "pygments_lexer": "ipython2",
   "version": "2.7.13"
  }
 },
 "nbformat": 4,
 "nbformat_minor": 2
}
