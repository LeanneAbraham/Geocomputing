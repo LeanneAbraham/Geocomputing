{
 "cells": [
  {
   "cell_type": "code",
   "execution_count": 11,
   "metadata": {},
   "outputs": [
    {
     "data": {
      "text/plain": [
       "<Result 'C:\\\\Users\\\\lfabr\\\\OneDrive - UW-Madison\\\\School\\\\Madison\\\\courses\\\\2017-03-Fall\\\\GEOG 378\\\\labs\\\\Lab7\\\\data\\\\polygon_intersect2.shp'>"
      ]
     },
     "execution_count": 11,
     "metadata": {},
     "output_type": "execute_result"
    }
   ],
   "source": [
    "##Task 1##\n",
    "\n",
    "import arcpy\n",
    "\n",
    "# set up working environment\n",
    "arcpy.env.workspace = r\"C:\\Users\\lfabr\\OneDrive - UW-Madison\\School\\Madison\\courses\\2017-03-Fall\\GEOG 378\\labs\\Lab7\\data\"\n",
    "arcpy.env.overwriteOutput = True\n",
    "\n",
    "# set feature class name\n",
    "powerline = \"data\\powerline.shp\"\n",
    "parcels = \"data\\Parcels.shp\"\n",
    "\n",
    "# buffer analysis\n",
    "# the buffer analysis requires the input to be a feature layer\n",
    "arcpy.MakeFeatureLayer_management(powerline, \"sample_line_lyr\")\n",
    "\n",
    " # can add more optional parameters \n",
    "arcpy.Buffer_analysis(\"sample_line_lyr\", \"sample_line_buffer\", \"5000 feet\")\n",
    "\n",
    "# select feature by location\n",
    "arcpy.MakeFeatureLayer_management(parcels,\"sample_polygon_lyr\")\n",
    "\n",
    "arcpy.MakeFeatureLayer_management(\"sample_line_buffer.shp\",\"sample_line_buffer_lyr\")\n",
    "\n",
    "arcpy.SelectLayerByLocation_management(\"sample_polygon_lyr\",\"INTERSECT\",\"sample_line_buffer_lyr\")\n",
    "# For lab assignment, find the appropriate keyword from the official documentation.\n",
    "\n",
    "# create output feature class \n",
    "sr = arcpy.Describe(\"sample_polygon_lyr\").spatialReference\n",
    "\n",
    "# add selection to output feature class\n",
    "arcpy.CreateFeatureclass_management(arcpy.env.workspace, \"polygon_intersect2.shp\", \"POLYGON\", parcels, \"SAME_AS_TEMPLATE\", \"SAME_AS_TEMPLATE\", sr)\n",
    "\n",
    "arcpy.Append_management(\"sample_polygon_lyr\",\"polygon_intersect2.shp\")\n",
    "\n"
   ]
  },
  {
   "cell_type": "code",
   "execution_count": null,
   "metadata": {},
   "outputs": [],
   "source": []
  }
 ],
 "metadata": {
  "kernelspec": {
   "display_name": "Python 2",
   "language": "python",
   "name": "python2"
  },
  "language_info": {
   "codemirror_mode": {
    "name": "ipython",
    "version": 2
   },
   "file_extension": ".py",
   "mimetype": "text/x-python",
   "name": "python",
   "nbconvert_exporter": "python",
   "pygments_lexer": "ipython2",
   "version": "2.7.13"
  }
 },
 "nbformat": 4,
 "nbformat_minor": 2
}
