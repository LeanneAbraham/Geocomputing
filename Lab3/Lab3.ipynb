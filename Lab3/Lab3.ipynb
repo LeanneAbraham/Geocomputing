{
 "cells": [
  {
   "cell_type": "code",
   "execution_count": 21,
   "metadata": {},
   "outputs": [],
   "source": [
    "import math\n",
    "\n",
    "# Open the file to be read, it is in the same folder as the file\n",
    "f = open('CityPop.csv',\"r\")\n",
    "\n",
    "#create an empty containers to add all city data to\n",
    "allCities = []\n",
    "cityKey = []\n",
    "\n",
    "#create year keys to search by\n",
    "\n",
    "\n",
    "#set up a loop to cycle through entire csv\n",
    "while True:\n",
    "    #create a single line for each city as csv is looped through\n",
    "    line = f.readline()\n",
    "    \n",
    "    #skip any empty lines\n",
    "    if len(line) == 0:\n",
    "        break\n",
    "    \n",
    "    #clean the data\n",
    "    data = line.strip( ).split(\",\")\n",
    "\n",
    "    \n",
    "    #append just the city names to a seperate list\n",
    "    cityKey.append(data[4])\n",
    "    \n",
    "    #create a list with all the city data\n",
    "    allCities.append(data)\n",
    "\n",
    "#combine into a dictonary with city names as keys\n",
    "cityDict = dict(zip(cityKey,allCities))\n",
    "    "
   ]
  },
  {
   "cell_type": "code",
   "execution_count": 22,
   "metadata": {},
   "outputs": [],
   "source": [
    "# create function to return correctly indexed year\n",
    "def popyear(requestYear):\n",
    "    if requestYear == 1970:\n",
    "        return 5\n",
    "    if requestYear == 1975:\n",
    "        return 6\n",
    "    if requestYear == 1980:\n",
    "        return 7\n",
    "    if requestYear == 1985:\n",
    "        return 8\n",
    "    if requestYear == 1990:\n",
    "        return 9\n",
    "    if requestYear == 1995:\n",
    "        return 10\n",
    "    if requestYear == 2000:\n",
    "        return 11\n",
    "    if requestYear == 2005:\n",
    "        return 12\n",
    "    if requestYear == 2010:\n",
    "        return 13\n",
    "\n",
    "#create function to find distance between two points\n",
    "def distance(lat1, lon1, lat2, lon2):\n",
    "    \n",
    "    #convert user inputs to radians and assign new value to variable\n",
    "    lat1 = math.radians(lat1)\n",
    "    lat2 = math.radians(lat2)\n",
    "    lon1 = math.radians(lon1)\n",
    "    lon2 = math.radians(lon2)\n",
    "\n",
    "    #calculate the distance\n",
    "    distance = math.acos((math.sin(lat1)*math.sin(lat2))+(math.cos(lat1)*math.cos(lat2)*math.cos((lon1-lon2))))\n",
    "\n",
    "    #find the distance in km\n",
    "    readableDistance = distance*6300\n",
    "    #print\n",
    "    return readableDistance\n",
    "\n",
    "# def yearCheck (requestYear):\n",
    "#     years = \n",
    "#     for i in years:\n",
    "#         print(i)\n",
    "        \n",
    "# print (yearCheck(1980))"
   ]
  },
  {
   "cell_type": "code",
   "execution_count": 19,
   "metadata": {},
   "outputs": [
    {
     "name": "stdout",
     "output_type": "stream",
     "text": [
      "Please enter a city Lima\n",
      "Please enter a year 1980\n",
      "The population of Lima in 1980 was 4.44\n"
     ]
    }
   ],
   "source": [
    "#set up user query\n",
    "requestCity = input(\"Please enter a city \")\n",
    "# requestCity = \"Mexico City\"\n",
    "requestYear = int(input(\"Please enter a year \"))\n",
    "# requestYear = 2010\n",
    "\n",
    "year = popyear(requestYear)\n",
    "\n",
    "#return the list of attributes for requested city\n",
    "city1 = cityDict.get(requestCity)\n",
    "\n",
    "#use \n",
    "population = float(city1[year])\n",
    "\n",
    "#tell the user the results\n",
    "print(\"The population of\", requestCity, \"in\", requestYear, \"was\", population)\n",
    "\n",
    "f.close()"
   ]
  },
  {
   "cell_type": "code",
   "execution_count": 20,
   "metadata": {},
   "outputs": [
    {
     "name": "stdout",
     "output_type": "stream",
     "text": [
      "Please enter a city Lima\n",
      "Please enter a different city Tokyo\n",
      "The distance between Lima and Tokyo is 15311.575377404617 km\n"
     ]
    }
   ],
   "source": [
    "#set up user query\n",
    "city1 = input(\"Please enter a city \")\n",
    "# city1 = \"Mexico City\"\n",
    "city2 = input(\"Please enter a different city \")\n",
    "# city2 = \"Lima\"\n",
    "\n",
    "#return the list of attributes for requested cities\n",
    "city1Info = cityDict.get(city1)\n",
    "city2Info = cityDict.get(city2)\n",
    "\n",
    "# convert lat lons to floating numbers\n",
    "lat1 = float(city1Info[1])\n",
    "lon1 = float(city1Info[2])\n",
    "lat2 = float(city2Info[1])\n",
    "lon2 = float(city2Info[2])\n",
    "\n",
    "#tell user results\n",
    "print (\"The distance between\", city1,\"and\",city2,\"is\",distance(lat1, lon1, lat2, lon2),\"km\")\n",
    "\n",
    "#close csv\n",
    "f.close()"
   ]
  },
  {
   "cell_type": "code",
   "execution_count": 24,
   "metadata": {},
   "outputs": [],
   "source": [
    "#set up user query\n",
    "# year1 = input(\"Please enter a year \")\n",
    "# year2 = input(\"Please enter a different year \")\n",
    "year1 = 1980\n",
    "year2 = 2000\n"
   ]
  },
  {
   "cell_type": "code",
   "execution_count": null,
   "metadata": {},
   "outputs": [],
   "source": []
  }
 ],
 "metadata": {
  "kernelspec": {
   "display_name": "Python 3",
   "language": "python",
   "name": "python3"
  },
  "language_info": {
   "codemirror_mode": {
    "name": "ipython",
    "version": 3
   },
   "file_extension": ".py",
   "mimetype": "text/x-python",
   "name": "python",
   "nbconvert_exporter": "python",
   "pygments_lexer": "ipython3",
   "version": "3.6.2"
  }
 },
 "nbformat": 4,
 "nbformat_minor": 2
}
