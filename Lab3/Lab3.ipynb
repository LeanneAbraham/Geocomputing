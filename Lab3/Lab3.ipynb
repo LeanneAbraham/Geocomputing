{
 "cells": [
  {
   "cell_type": "code",
   "execution_count": 10,
   "metadata": {},
   "outputs": [
    {
     "name": "stdout",
     "output_type": "stream",
     "text": [
      "Please enter a city Lima\n",
      "Please enter a year 1975\n",
      "The population of Lima in 1975 was 3.7\n"
     ]
    }
   ],
   "source": [
    "# create function to return correctly indexed year\n",
    "def popyear(requestYear):\n",
    "    if requestYear == 1970:\n",
    "        return 5\n",
    "    if requestYear == 1975:\n",
    "        return 6\n",
    "    if requestYear == 1980:\n",
    "        return 7\n",
    "    if requestYear == 1985:\n",
    "        return 8\n",
    "    if requestYear == 1990:\n",
    "        return 9\n",
    "    if requestYear == 1995:\n",
    "        return 10\n",
    "    if requestYear == 2000:\n",
    "        return 11\n",
    "    if requestYear == 2005:\n",
    "        return 12\n",
    "    if requestYear == 2010:\n",
    "        return 13\n",
    "\n",
    "# Open the file to be read, it is in the same folder as the file\n",
    "f = open('CityPop.csv',\"r\")\n",
    "\n",
    "#create an empty containers to add all city data to\n",
    "allCities = []\n",
    "cityKey = []\n",
    "\n",
    "#create year keys to search by\n",
    "\n",
    "\n",
    "#set up a loop to cycle through entire csv\n",
    "while True:\n",
    "    #create a single line for each city as csv is looped through\n",
    "    line = f.readline()\n",
    "    \n",
    "    #skip any empty lines\n",
    "    if len(line) == 0:\n",
    "        break\n",
    "    \n",
    "    #clean the data\n",
    "    data = line.strip( ).split(\",\")\n",
    "\n",
    "    \n",
    "    #append just the city names to a seperate list\n",
    "    cityKey.append(data[4])\n",
    "    \n",
    "    #create a list with all the city data\n",
    "    allCities.append(data)\n",
    "\n",
    "#combine into a dictonary with city names as keys\n",
    "cityDict = dict(zip(cityKey,allCities))\n",
    "\n",
    "#set up user query\n",
    "requestCity = input(\"Please enter a city \")\n",
    "# requestCity = \"Mexico City\"\n",
    "requestYear = int(input(\"Please enter a year \"))\n",
    "# requestYear = 2010\n",
    "\n",
    "year = popyear(requestYear)\n",
    "\n",
    "#return the list of attributes for requested city\n",
    "city1 = cityDict.get(requestCity)\n",
    "\n",
    "#use \n",
    "population = float(city1[year])\n",
    "\n",
    "#tell the user the results\n",
    "print(\"The population of\", requestCity, \"in\", requestYear, \"was\", population)\n",
    "\n",
    "f.close()"
   ]
  },
  {
   "cell_type": "code",
   "execution_count": null,
   "metadata": {},
   "outputs": [],
   "source": []
  }
 ],
 "metadata": {
  "kernelspec": {
   "display_name": "Python 3",
   "language": "python",
   "name": "python3"
  },
  "language_info": {
   "codemirror_mode": {
    "name": "ipython",
    "version": 3
   },
   "file_extension": ".py",
   "mimetype": "text/x-python",
   "name": "python",
   "nbconvert_exporter": "python",
   "pygments_lexer": "ipython3",
   "version": "3.6.2"
  }
 },
 "nbformat": 4,
 "nbformat_minor": 2
}
