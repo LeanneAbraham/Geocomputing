{
 "cells": [
  {
   "cell_type": "code",
   "execution_count": 1,
   "metadata": {},
   "outputs": [],
   "source": [
    "import math\n",
    "\n",
    "# Open the file to be read, it is in the same folder as the file\n",
    "f = open('CityPop.csv',\"r\")\n",
    "\n",
    "#create an empty containers to add all city data to\n",
    "allCities = []\n",
    "cityKey = []\n",
    "\n",
    "#create year keys to search by\n",
    "\n",
    "\n",
    "#set up a loop to cycle through entire csv\n",
    "while True:\n",
    "    #create a single line for each city as csv is looped through\n",
    "    line = f.readline()\n",
    "    \n",
    "    #skip any empty lines\n",
    "    if len(line) == 0:\n",
    "        break\n",
    "    \n",
    "    #clean the data\n",
    "    data = line.strip( ).split(\",\")\n",
    "    \n",
    "    #append just the city names to a seperate list\n",
    "    cityKey.append(data[4])\n",
    "    \n",
    "    #create a list with all the city data\n",
    "    allCities.append(data)\n",
    "\n",
    "#combine into a dictonary with city names as keys\n",
    "cityDict = dict(zip(cityKey,allCities))\n",
    "\n",
    "\n",
    "#create empty list to push cleaned years into for later use\n",
    "cleanYear = []\n",
    "for i in cityDict[\"label\"]:\n",
    "    #loop through to remove the yr suffix\n",
    "    x = i.replace(\"yr\",\"\")\n",
    "    #push the cleaned variables to their own list\n",
    "    cleanYear.append(x)\n",
    "    "
   ]
  },
  {
   "cell_type": "code",
   "execution_count": 2,
   "metadata": {},
   "outputs": [],
   "source": [
    "# create function to return correctly indexed year\n",
    "def popyear(requestYear):\n",
    "    if requestYear == 1970:\n",
    "        return 5\n",
    "    if requestYear == 1975:\n",
    "        return 6\n",
    "    if requestYear == 1980:\n",
    "        return 7\n",
    "    if requestYear == 1985:\n",
    "        return 8\n",
    "    if requestYear == 1990:\n",
    "        return 9\n",
    "    if requestYear == 1995:\n",
    "        return 10\n",
    "    if requestYear == 2000:\n",
    "        return 11\n",
    "    if requestYear == 2005:\n",
    "        return 12\n",
    "    if requestYear == 2010:\n",
    "        return 13\n",
    "\n",
    "#create function to find distance between two points\n",
    "def distance(lat1, lon1, lat2, lon2):\n",
    "    \n",
    "    #convert user inputs to radians and assign new value to variable\n",
    "    lat1 = math.radians(lat1)\n",
    "    lat2 = math.radians(lat2)\n",
    "    lon1 = math.radians(lon1)\n",
    "    lon2 = math.radians(lon2)\n",
    "\n",
    "    #calculate the distance\n",
    "    distance = math.acos((math.sin(lat1)*math.sin(lat2))+(math.cos(lat1)*math.cos(lat2)*math.cos((lon1-lon2))))\n",
    "\n",
    "    #find the distance in km\n",
    "    readableDistance = distance*6300\n",
    "    #print\n",
    "    return readableDistance\n",
    "\n",
    "#function to check if user year is one listed in csv\n",
    "def yearCheck(year):\n",
    "    \n",
    "    count = 0\n",
    "    \n",
    "    while count < len(cleanYear):\n",
    "        #check to see if the entered year is one in the csv\n",
    "        #if the year is valid, break the loop and move on\n",
    "        if year == cleanYear[count]:\n",
    "            print (\"YOU WON\")\n",
    "            break\n",
    "        #if the loop goes through all possible years without finding a match, give the user a second chance\n",
    "        elif count == 13:\n",
    "            print(\"This is not a valid year, please try again\")\n",
    "            break\n",
    "        #if a match isn't found try again\n",
    "        elif year != cleanYear[count]:\n",
    "            count = count+1\n",
    "            pass    \n",
    "        "
   ]
  },
  {
   "cell_type": "code",
   "execution_count": 3,
   "metadata": {},
   "outputs": [
    {
     "name": "stdout",
     "output_type": "stream",
     "text": [
      "Please enter a city Lima\n",
      "Please enter a year 1980\n",
      "The population of Lima in 1980 was 4.44\n"
     ]
    }
   ],
   "source": [
    "#set up user query\n",
    "requestCity = input(\"Please enter a city \")\n",
    "# requestCity = \"Mexico City\"\n",
    "requestYear = int(input(\"Please enter a year \"))\n",
    "# requestYear = 2010\n",
    "\n",
    "year = popyear(requestYear)\n",
    "\n",
    "#return the list of attributes for requested city\n",
    "city1 = cityDict.get(requestCity)\n",
    "\n",
    "#use \n",
    "population = float(city1[year])\n",
    "\n",
    "#tell the user the results\n",
    "print(\"The population of\", requestCity, \"in\", requestYear, \"was\", population)\n",
    "\n",
    "f.close()"
   ]
  },
  {
   "cell_type": "code",
   "execution_count": 4,
   "metadata": {},
   "outputs": [
    {
     "name": "stdout",
     "output_type": "stream",
     "text": [
      "Please enter a city Lima\n",
      "Please enter a different city New York\n",
      "The distance between Lima and New York is 5818.946078286384 km\n"
     ]
    }
   ],
   "source": [
    "#set up user query\n",
    "city1 = input(\"Please enter a city \")\n",
    "# city1 = \"Mexico City\"\n",
    "city2 = input(\"Please enter a different city \")\n",
    "# city2 = \"Lima\"\n",
    "\n",
    "#return the list of attributes for requested cities\n",
    "city1Info = cityDict.get(city1)\n",
    "city2Info = cityDict.get(city2)\n",
    "\n",
    "# convert lat lons to floating numbers\n",
    "lat1 = float(city1Info[1])\n",
    "lon1 = float(city1Info[2])\n",
    "lat2 = float(city2Info[1])\n",
    "lon2 = float(city2Info[2])\n",
    "\n",
    "#tell user results\n",
    "print (\"The distance between\", city1,\"and\",city2,\"is\",distance(lat1, lon1, lat2, lon2),\"km\")\n",
    "\n",
    "#close csv\n",
    "f.close()"
   ]
  },
  {
   "cell_type": "code",
   "execution_count": 8,
   "metadata": {},
   "outputs": [
    {
     "name": "stdout",
     "output_type": "stream",
     "text": [
      "Please enter a starting year 200\n",
      "This is not a valid year, please try again\n",
      "Please enter an ending year 2010\n",
      "YOU WON\n"
     ]
    }
   ],
   "source": [
    "#set up user query in loop\n",
    "loopCount = 0\n",
    "\n",
    "while loopCount <= 4:\n",
    "    # loopCount will increase 1 for each loop\n",
    "    loopCount += 1\n",
    "    \n",
    "    if (loopCount ==5):\n",
    "        print (\"You failed to provide a shape, the program has failed\")\n",
    "    else:\n",
    "        #check the user input\n",
    "        year1 = input(\"Please enter a starting year \")\n",
    "        #check if year is in csv\n",
    "        yearCheck(year1)\n",
    "\n",
    "        year2 = input(\"Please enter an ending year \")\n",
    "        #check if year is in csv\n",
    "        yearCheck(year2)\n",
    "        break\n"
   ]
  },
  {
   "cell_type": "code",
   "execution_count": null,
   "metadata": {},
   "outputs": [],
   "source": []
  }
 ],
 "metadata": {
  "kernelspec": {
   "display_name": "Python 3",
   "language": "python",
   "name": "python3"
  },
  "language_info": {
   "codemirror_mode": {
    "name": "ipython",
    "version": 3
   },
   "file_extension": ".py",
   "mimetype": "text/x-python",
   "name": "python",
   "nbconvert_exporter": "python",
   "pygments_lexer": "ipython3",
   "version": "3.6.2"
  }
 },
 "nbformat": 4,
 "nbformat_minor": 2
}
