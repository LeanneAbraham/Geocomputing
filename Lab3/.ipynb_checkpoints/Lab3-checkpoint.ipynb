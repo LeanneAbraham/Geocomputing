{
 "cells": [
  {
   "cell_type": "code",
   "execution_count": 4,
   "metadata": {},
   "outputs": [
    {
     "name": "stdout",
     "output_type": "stream",
     "text": [
      "5\n",
      "[5, 2, 3] [5, 2, 3]\n"
     ]
    }
   ],
   "source": [
    "a = [1, 2, 3]\n",
    "b = a\n",
    "b[0]=5\n",
    "\n",
    "print(b[0])\n",
    "print (a,b)"
   ]
  },
  {
   "cell_type": "code",
   "execution_count": 36,
   "metadata": {},
   "outputs": [],
   "source": [
    "f = open('CityPop.csv',\"r\")\n",
    "\n",
    "while True:\n",
    "    line = f.readline()\n",
    "    if len(line) == 0:\n",
    "        break\n",
    "    data = line.strip().split(\",\")\n",
    "#     print(data[3])\n",
    "    \n",
    "f.close()"
   ]
  },
  {
   "cell_type": "code",
   "execution_count": 34,
   "metadata": {},
   "outputs": [
    {
     "name": "stdout",
     "output_type": "stream",
     "text": [
      "['id', 'latitude', 'longitude', 'city', 'label', 'yr1970', 'yr1975', 'yr1980', 'yr1985', 'yr1990', 'yr1995', 'yr2000', 'yr2005', 'yr2010']\n"
     ]
    },
    {
     "ename": "NameError",
     "evalue": "name 'popyear' is not defined",
     "output_type": "error",
     "traceback": [
      "\u001b[1;31m---------------------------------------------------------------------------\u001b[0m",
      "\u001b[1;31mNameError\u001b[0m                                 Traceback (most recent call last)",
      "\u001b[1;32m<ipython-input-34-b80950dcc2fd>\u001b[0m in \u001b[0;36m<module>\u001b[1;34m()\u001b[0m\n\u001b[0;32m     42\u001b[0m \u001b[1;31m#return the list of attributes for requested city\u001b[0m\u001b[1;33m\u001b[0m\u001b[1;33m\u001b[0m\u001b[0m\n\u001b[0;32m     43\u001b[0m \u001b[0mcity1\u001b[0m \u001b[1;33m=\u001b[0m \u001b[0mcityDict\u001b[0m\u001b[1;33m.\u001b[0m\u001b[0mget\u001b[0m\u001b[1;33m(\u001b[0m\u001b[0mrequestCity\u001b[0m\u001b[1;33m)\u001b[0m\u001b[1;33m\u001b[0m\u001b[0m\n\u001b[1;32m---> 44\u001b[1;33m \u001b[0mpopulation\u001b[0m \u001b[1;33m=\u001b[0m \u001b[0mcity1\u001b[0m\u001b[1;33m[\u001b[0m\u001b[0mpopyear\u001b[0m\u001b[1;33m(\u001b[0m\u001b[0mrequestYear\u001b[0m\u001b[1;33m)\u001b[0m\u001b[1;33m]\u001b[0m\u001b[1;33m\u001b[0m\u001b[0m\n\u001b[0m\u001b[0;32m     45\u001b[0m \u001b[1;33m\u001b[0m\u001b[0m\n\u001b[0;32m     46\u001b[0m \u001b[0mprint\u001b[0m\u001b[1;33m(\u001b[0m\u001b[0mpopulation\u001b[0m\u001b[1;33m)\u001b[0m\u001b[1;33m\u001b[0m\u001b[0m\n",
      "\u001b[1;31mNameError\u001b[0m: name 'popyear' is not defined"
     ]
    }
   ],
   "source": [
    "def popyear (requestYear):\n",
    "    if requestYear == 1970:\n",
    "        index = 5\n",
    "    elif requestYear == 1975:\n",
    "        index = 6\n",
    "\n",
    "# Open the file to be read, it is in the same folder as the file\n",
    "f = open('CityPop.csv',\"r\")\n",
    "\n",
    "#create an empty containers to add all city data to\n",
    "allCities = []\n",
    "cityKey = []\n",
    "\n",
    "#create year keys to search by\n",
    "\n",
    "\n",
    "#set up a loop to cycle through entire csv\n",
    "while True:\n",
    "    #create a single line for each city as csv is looped through\n",
    "    line = f.readline()\n",
    "    \n",
    "    #skip any empty lines\n",
    "    if len(line) == 0:\n",
    "        break\n",
    "    \n",
    "    #clean the data\n",
    "    data = line.strip().split(\",\")\n",
    "\n",
    "    \n",
    "    #append just the city names to a seperate list\n",
    "    cityKey.append(data[4])\n",
    "    \n",
    "    #create a list with all the city data\n",
    "    allCities.append(data)\n",
    "\n",
    "#combine into a dictonary with city names as keys\n",
    "cityDict = dict(zip(cityKey,allCities))\n",
    "print(cityDict.get(\"label\"))\n",
    "\n",
    "#set up user query\n",
    "#requestCity = input(\"Please enter a city \")\n",
    "requestCity = \"Tokyo\"\n",
    "# requestYear = input(\"Please enter a year \")\n",
    "requestYear = 1970\n",
    "\n",
    "# def findPopulation (requestCity, requestYear):\n",
    "\n",
    "#return the list of attributes for requested city\n",
    "city1 = cityDict.get(requestCity)\n",
    "population = city1[popyear(requestYear)]\n",
    "\n",
    "print(population)\n",
    "\n",
    "# print(allCities[1])\n",
    "\n",
    "# for i in allCities[5:13]:\n",
    "#     print(i)\n",
    "#     i = float(i)\n",
    "#     return i\n",
    "\n",
    "# print(cityDict.get(requestCity,\"Please enter a major city\"))\n",
    "\n",
    "#close csv\n",
    "f.close()"
   ]
  },
  {
   "cell_type": "code",
   "execution_count": null,
   "metadata": {},
   "outputs": [],
   "source": []
  }
 ],
 "metadata": {
  "kernelspec": {
   "display_name": "Python 3",
   "language": "python",
   "name": "python3"
  },
  "language_info": {
   "codemirror_mode": {
    "name": "ipython",
    "version": 3
   },
   "file_extension": ".py",
   "mimetype": "text/x-python",
   "name": "python",
   "nbconvert_exporter": "python",
   "pygments_lexer": "ipython3",
   "version": "3.6.2"
  }
 },
 "nbformat": 4,
 "nbformat_minor": 2
}
