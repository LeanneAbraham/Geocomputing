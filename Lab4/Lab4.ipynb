{
 "cells": [
  {
   "cell_type": "code",
   "execution_count": 9,
   "metadata": {},
   "outputs": [
    {
     "ename": "IndentationError",
     "evalue": "expected an indented block (<ipython-input-9-a2248efbecda>, line 9)",
     "output_type": "error",
     "traceback": [
      "\u001b[1;36m  File \u001b[1;32m\"<ipython-input-9-a2248efbecda>\"\u001b[1;36m, line \u001b[1;32m9\u001b[0m\n\u001b[1;33m    def printPopChange(year1, year2):\u001b[0m\n\u001b[1;37m      ^\u001b[0m\n\u001b[1;31mIndentationError\u001b[0m\u001b[1;31m:\u001b[0m expected an indented block\n"
     ]
    }
   ],
   "source": [
    "#1st task\n",
    "#REMEMBER, DONT NEED USER INPUT\n",
    "#create class\n",
    "class city:\n",
    "    def __init__(self, name):\n",
    "        #cname is the instance of the class\n",
    "        self.cname = name\n",
    "    def printDistance(self, otherCity):\n",
    "        #calculate the distance\n",
    "    def printPopChange(year1, year2):\n",
    "        #retreive the populationn for year1 and year2\n",
    "        \n",
    "        #calculate the popchange\n",
    "try: \n",
    "    f = open(\"CityPop.csv\", \"r\")\n",
    "except: \n",
    "    print(\"Could not open the file\")\n",
    "    \n",
    "#read file\n",
    "Cities = []\n",
    "header = f.readline()\n",
    "while True:\n",
    "    line = f.readline()\n",
    "    if len(line) == 0:\n",
    "        break\n",
    "    clist = line.strip().split(\",\")\n",
    "    #create a city instance\n",
    "    c = city(clist[4])\n",
    "\n",
    "    #print attribute\n",
    "    print(c.cname)\n",
    "    \n",
    "f.close()\n",
    "\n",
    "#testing\n",
    "c1 = Cities[1]\n",
    "c2 = Cities[2]\n",
    "c1.printDistance(c2)\n",
    "c1.printPopChange('yr1990', \"yr1995\")\n",
    "\n",
    "#getattr() This is a built in function that will\n",
    "#retreive an attribute from an instance using the name of that attribute\n",
    "\n",
    "#ex\n",
    "\n",
    "cityname = getattr(c1, 'cname') #cname is because this is the name of the attribute in the class"
   ]
  },
  {
   "cell_type": "code",
   "execution_count": null,
   "metadata": {},
   "outputs": [],
   "source": [
    "#2nd Task: print popChange between 2 years\n",
    "\n",
    "\n",
    "\n"
   ]
  }
 ],
 "metadata": {
  "kernelspec": {
   "display_name": "Python 3",
   "language": "python",
   "name": "python3"
  },
  "language_info": {
   "codemirror_mode": {
    "name": "ipython",
    "version": 3
   },
   "file_extension": ".py",
   "mimetype": "text/x-python",
   "name": "python",
   "nbconvert_exporter": "python",
   "pygments_lexer": "ipython3",
   "version": "3.6.2"
  }
 },
 "nbformat": 4,
 "nbformat_minor": 2
}
