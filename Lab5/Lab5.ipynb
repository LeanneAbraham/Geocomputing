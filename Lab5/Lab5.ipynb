{
 "cells": [
  {
   "cell_type": "raw",
   "metadata": {},
   "source": [
    "import sys\n",
    "import numpy as np\n",
    "import gdal\n",
    "\n",
    "#gdal cant use try/except to catch errors otherwise use an if statemnt\n",
    "if ds1 == None or ds3 == None:\n",
    "    print(\"can't open the file\")\n",
    "    sys.exit()\n",
    "    \n",
    "#get driver\n",
    "fmt = \"GTiff\"\n",
    "driver = gdal.GetDriverByName(fmt)\n",
    "\n",
    "#create output dataset\n",
    "dols = ds1.RasterXSize\n",
    "cols = ds1.RasterYSize\n",
    "dsOut = driver.Create('test.tif', cols, rows, 1, gdal.GDT_FLOAT32) #be careful about the float, for ex your data could\n",
    "#have an int output, might have int division problems. The Division wont change the data type for you, \n",
    "\n",
    "#set geotransform & projection\n",
    "trans = ds1.GetGeoTransform()\n",
    "# prj = ...get\n",
    "\n",
    "#missing more stuff\n",
    "\n",
    "#.ReadAsArray() neans you read it as an array, changing data type to float gets rid of the division problem just in case\n",
    "#you do raster math later\n",
    "\n",
    "print(outputArr) #gives a truncated version of the raster, checks for values\n",
    "\n",
    "#write band\n",
    "band = dsOut.GetRasterBand(1)\n",
    "band.SetColorInterpretation(gdal.GCI_GrayIndex)\n",
    "\n",
    "#close\n",
    "ds1 = None\n"
   ]
  },
  {
   "cell_type": "code",
   "execution_count": null,
   "metadata": {},
   "outputs": [],
   "source": [
    "import sys\n",
    "sys.path\n",
    "# sys.path.append('C:\\Program Files (x86)\\GDAL')\n",
    "# import gdal"
   ]
  },
  {
   "cell_type": "code",
   "execution_count": null,
   "metadata": {},
   "outputs": [],
   "source": []
  }
 ],
 "metadata": {
  "kernelspec": {
   "display_name": "Python 3",
   "language": "python",
   "name": "python3"
  },
  "language_info": {
   "codemirror_mode": {
    "name": "ipython",
    "version": 3
   },
   "file_extension": ".py",
   "mimetype": "text/x-python",
   "name": "python",
   "nbconvert_exporter": "python",
   "pygments_lexer": "ipython3",
   "version": "3.6.3"
  }
 },
 "nbformat": 4,
 "nbformat_minor": 2
}
