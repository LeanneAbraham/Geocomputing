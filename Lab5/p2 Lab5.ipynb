{
 "cells": [
  {
   "cell_type": "raw",
   "metadata": {},
   "source": [
    "###NOTES FROM LAB####\n",
    "import sys\n",
    "import numpy as np\n",
    "import gdal\n",
    "\n",
    "#gdal cant use try/except to catch errors otherwise use an if statemnt\n",
    "if ds1 == None or ds3 == None:\n",
    "    print(\"can't open the file\")\n",
    "    sys.exit()\n",
    "    \n",
    "#get driver\n",
    "fmt = \"GTiff\"\n",
    "driver = gdal.GetDriverByName(fmt)\n",
    "\n",
    "#create output dataset\n",
    "dols = ds1.RasterXSize\n",
    "cols = ds1.RasterYSize\n",
    "dsOut = driver.Create('test.tif', cols, rows, 1, gdal.GDT_FLOAT32) #be careful about the float, for ex your data could\n",
    "#have an int output, might have int division problems. The Division wont change the data type for you, \n",
    "\n",
    "#set geotransform & projection\n",
    "trans = ds1.GetGeoTransform()\n",
    "# prj = ...get\n",
    "\n",
    "#missing more stuff\n",
    "\n",
    "#.ReadAsArray() neans you read it as an array, changing data type to float gets rid of the division problem just in case\n",
    "#you do raster math later\n",
    "\n",
    "print(outputArr) #gives a truncated version of the raster, checks for values\n",
    "\n",
    "#write band\n",
    "band = dsOut.GetRasterBand(1)\n",
    "band.SetColorInterpretation(gdal.GCI_GrayIndex)\n",
    "\n",
    "#close\n",
    "ds1 = None"
   ]
  },
  {
   "cell_type": "code",
   "execution_count": 31,
   "metadata": {},
   "outputs": [
    {
     "ename": "SyntaxError",
     "evalue": "invalid syntax (<ipython-input-31-b4754caed961>, line 14)",
     "output_type": "error",
     "traceback": [
      "\u001b[1;36m  File \u001b[1;32m\"<ipython-input-31-b4754caed961>\"\u001b[1;36m, line \u001b[1;32m14\u001b[0m\n\u001b[1;33m    gdal.info ds1\u001b[0m\n\u001b[1;37m                ^\u001b[0m\n\u001b[1;31mSyntaxError\u001b[0m\u001b[1;31m:\u001b[0m invalid syntax\n"
     ]
    }
   ],
   "source": [
    "import sys\n",
    "import numpy as np\n",
    "import gdal\n",
    "import matplotlib as plt\n",
    "\n",
    "ds1 = gdal.Open('.\\landsat\\L71026029_02920000609_B10_CLIP.tif',0)\n",
    "ds3 = gdal.Open('.\\landsat\\L71026029_02920000609_B30_CLIP.tif',0)\n",
    "\n",
    "#gdal cant use try/except to catch errors otherwise use an if statemnt\n",
    "if ds1 == None or ds3 == None:\n",
    "    print(\"can't open the file\")\n",
    "    sys.exit()\n",
    "    \n",
    "#get driver\n",
    "fmt = \"GTiff\"\n",
    "driver = gdal.GetDriverByName(fmt)\n",
    "\n",
    "#create output dataset\n",
    "cols = ds1.RasterXSize\n",
    "rows = ds1.RasterYSize\n",
    "dsOut = driver.Create('test.tif', cols, rows, 1, gdal.GDT_Float32) \n",
    "#be careful about the float, for ex your data could\n",
    "#have an int output, might have int division problems. The Division wont change the data type for you, \n",
    "\n",
    "#set geotransform & projection\n",
    "trans = ds1.GetGeoTransform()\n",
    "# prj = ...get\n",
    "\n",
    "#missing more stuff\n",
    "\n",
    "#.ReadAsArray() means you read it as an array, changing data type to float gets rid of the division problem just in case\n",
    "#you do raster math later\n",
    "\n",
    "# print(outputArr)\n",
    "#gives a truncated version of the raster, checks for values\n",
    "\n",
    "#write band\n",
    "band = dsOut.GetRasterBand(1)\n",
    "band.SetColorInterpretation(gdal.GCI_GrayIndex)\n",
    "\n",
    "#close\n",
    "ds1 = None"
   ]
  },
  {
   "cell_type": "code",
   "execution_count": null,
   "metadata": {},
   "outputs": [],
   "source": []
  }
 ],
 "metadata": {
  "kernelspec": {
   "display_name": "Python 2",
   "language": "python",
   "name": "python2"
  },
  "language_info": {
   "codemirror_mode": {
    "name": "ipython",
    "version": 2
   },
   "file_extension": ".py",
   "mimetype": "text/x-python",
   "name": "python",
   "nbconvert_exporter": "python",
   "pygments_lexer": "ipython2",
   "version": "2.7.13"
  }
 },
 "nbformat": 4,
 "nbformat_minor": 2
}
