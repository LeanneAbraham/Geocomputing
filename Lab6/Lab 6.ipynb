{
 "cells": [
  {
   "cell_type": "code",
   "execution_count": 53,
   "metadata": {},
   "outputs": [
    {
     "name": "stdout",
     "output_type": "stream",
     "text": [
      "2.17263455558 miles\n",
      "2.17263455558 miles\n"
     ]
    }
   ],
   "source": [
    "import ogr\n",
    "import gdalconst\n",
    "import sys\n",
    "import math\n",
    "\n",
    "#create function to find distance between two points\n",
    "def distance(lat1, lon1, lat2, lon2):\n",
    "\n",
    "    #calculate the distance\n",
    "    distance = math.sqrt((lat2 - lat1)**2+(lon2 - lon1)**2)\n",
    "\n",
    "    return distance\n",
    "\n",
    "#read in files\n",
    "powerlinesFile = \"./data/PowerLine.shp\"\n",
    "parcelsFile = \"./data/Parcels.shp\"\n",
    "\n",
    "#get driver\n",
    "driver = ogr.GetDriverByName(\"Esri Shapefile\")\n",
    "\n",
    "#open file\n",
    "powerlines = driver.Open(powerlinesFile, gdalconst.GA_ReadOnly)\n",
    "parcels = driver.Open(parcelsFile, gdalconst.GA_ReadOnly)\n",
    "\n",
    "#make sure file was opened\n",
    "if powerlines is None:\n",
    "    print \"Failed to open\", powerlinesFile\n",
    "    sys.exit()\n",
    "if parcels is None:\n",
    "    print \"Failed to open\", parcelsFile\n",
    "    sys.exit()\n",
    "\n",
    "#get data layer\n",
    "powerLayer = powerlines.GetLayer(0)\n",
    "\n",
    "#get spatial reference\n",
    "# print powerLayer.GetSpatialRef()\n",
    "\n",
    "#get feature and geometry\n",
    "powerFeature = powerLayer.GetFeature(0)\n",
    "powerGeom = powerFeature.GetGeometryRef()\n",
    "\n",
    "#find the number of points in the file\n",
    "powerPointCount = powerGeom.GetPointCount()\n",
    "\n",
    "# print powerPointCount\n",
    "# There are 4 points\n",
    "\n",
    "coordinates = []\n",
    "\n",
    "#find all point coordinates\n",
    "for i in range(powerPointCount):\n",
    "    x = powerGeom.GetX(i)\n",
    "    y = powerGeom.GetY(i)\n",
    "    coordinates.append([x,y])\n",
    "    \n",
    "length = 0\n",
    "\n",
    "#find the distance between each point\n",
    "for i in range(powerPointCount):\n",
    "    j = i+1\n",
    "    if j == 4:\n",
    "        break\n",
    "    else: \n",
    "        dist = distance(coordinates[i][0],coordinates[i][1],coordinates[j][0], coordinates[j][1])\n",
    "        length = length+dist\n",
    "        \n",
    "#return the distance between all points in miles\n",
    "# print length/5280, \"miles\"\n",
    "#find length in miles\n",
    "# print powerGeom.Length()/5280, \"miles\"\n",
    "\n"
   ]
  },
  {
   "cell_type": "code",
   "execution_count": null,
   "metadata": {},
   "outputs": [],
   "source": []
  }
 ],
 "metadata": {
  "kernelspec": {
   "display_name": "Python 2",
   "language": "python",
   "name": "python2"
  },
  "language_info": {
   "codemirror_mode": {
    "name": "ipython",
    "version": 2
   },
   "file_extension": ".py",
   "mimetype": "text/x-python",
   "name": "python",
   "nbconvert_exporter": "python",
   "pygments_lexer": "ipython2",
   "version": "2.7.13"
  }
 },
 "nbformat": 4,
 "nbformat_minor": 2
}
