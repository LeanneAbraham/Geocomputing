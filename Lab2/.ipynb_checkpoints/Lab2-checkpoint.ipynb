{
 "cells": [
  {
   "cell_type": "code",
   "execution_count": 87,
   "metadata": {},
   "outputs": [
    {
     "name": "stdout",
     "output_type": "stream",
     "text": [
      "-30.5\n",
      "(5, 14, 4.416000000000366)\n"
     ]
    }
   ],
   "source": [
    "import math\n",
    "\n",
    "##Task 1, 2, and 3\n",
    "\n",
    "#create a function which returns inputed degrees, minutes,\n",
    "#and seconds as decimal degrees\n",
    "def dms2dd(d,m,s):\n",
    "    #convert dms to dd\n",
    "    \n",
    "    #convert inputed values and add them together\n",
    "    #to complete the converstion to a single value\n",
    "    \n",
    "    d = float(d)\n",
    "    \n",
    "    #ensure that if a negative degree is\n",
    "    #used the other inputs are also negative\n",
    "    if (d<0):\n",
    "        m = float((m/60.0)*-1)\n",
    "        s = float((s/3600.0)*-1)\n",
    "    else:\n",
    "        m = float(m/60.0)\n",
    "        s = float(s/3600.0)\n",
    "    \n",
    "    #combine the converted values\n",
    "    dd = s+m+d\n",
    "    \n",
    "    return dd\n",
    "\n",
    "#function to convert decimal degrees to dms\n",
    "def dd2dms(dd):\n",
    "    \n",
    "    #find the whole degrees and assign them to d\n",
    "    d = int(math.floor(dd))\n",
    "    \n",
    "    #single out the remainder of the dd and convert to whole minutes\n",
    "    remainder = dd-d\n",
    "    m = int(math.floor(remainder*60.0))\n",
    "    \n",
    "    #find the remainder of the minutes and convert to seconds\n",
    "    s = ((remainder*60)-m)*60\n",
    "    \n",
    "    #return the concatenated values\n",
    "    return d, m, s\n",
    "    \n",
    "    \n",
    "# assign the results of both functions and print them to be read\n",
    "dd = dms2dd(-30, 30, 0)\n",
    "print dd\n",
    "\n",
    "dms = dd2dms(5.23456)\n",
    "print dms\n"
   ]
  },
  {
   "cell_type": "code",
   "execution_count": 15,
   "metadata": {},
   "outputs": [
    {
     "name": "stdout",
     "output_type": "stream",
     "text": [
      "['0', '1', '2', '3', '4', '5', '6', '7']\n",
      "8\n"
     ]
    }
   ],
   "source": [
    "# #this is a list, a list is a sequence of values (like an array?)\n",
    "\n",
    "\n",
    "# s=\"0,1,2,3,4,5,6,7\"\n",
    "# l=s.split(\",\")\n",
    "# print l\n",
    "\n",
    "# #this returns the value in the array at the specified point\n",
    "# # print l[2]\n",
    "\n",
    "# myLength = len(l)\n",
    "# print myLength"
   ]
  },
  {
   "cell_type": "code",
   "execution_count": 20,
   "metadata": {},
   "outputs": [
    {
     "name": "stdout",
     "output_type": "stream",
     "text": [
      "{'fish': 12, 'dog': 29, 'cat': 32}\n"
     ]
    },
    {
     "data": {
      "text/plain": [
       "32"
      ]
     },
     "execution_count": 20,
     "metadata": {},
     "output_type": "execute_result"
    }
   ],
   "source": [
    "# #example of a dictionary \n",
    "# d={\"dog\": 29, \"cat\":32, \"fish\": 12}\n",
    "# print d\n",
    "# d[\"cat\"]\n",
    "\n",
    "# #compling a dictonary: use a for loop"
   ]
  }
 ],
 "metadata": {
  "kernelspec": {
   "display_name": "Python 2",
   "language": "python",
   "name": "python2"
  },
  "language_info": {
   "codemirror_mode": {
    "name": "ipython",
    "version": 2
   },
   "file_extension": ".py",
   "mimetype": "text/x-python",
   "name": "python",
   "nbconvert_exporter": "python",
   "pygments_lexer": "ipython2",
   "version": "2.7.13"
  }
 },
 "nbformat": 4,
 "nbformat_minor": 2
}
