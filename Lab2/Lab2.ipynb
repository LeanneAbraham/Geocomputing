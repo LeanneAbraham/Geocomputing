{
 "cells": [
  {
   "cell_type": "code",
   "execution_count": 8,
   "metadata": {},
   "outputs": [
    {
     "name": "stdout",
     "output_type": "stream",
     "text": [
      "Please enter a latitude or longitude value in DMS or DD format. 45.89\n",
      "\n",
      "The input is in DD form\n",
      "Its DD form is (45, 53, 24.000000000002046)\n",
      "{'Tokyo': 23.3, 'New Delhi': 3.53, 'Sao Paulo': 7.62, 'Mumbai': 5.81, 'Mexico City': 8.77}\n"
     ]
    }
   ],
   "source": [
    "import math\n",
    "\n",
    "##Task 1, 2, and 3\n",
    "\n",
    "#create a function which returns inputed degrees, minutes,\n",
    "#and seconds as decimal degrees\n",
    "def dms2dd(d,m,s):\n",
    "    #convert dms to dd\n",
    "    \n",
    "    #convert inputed values and add them together\n",
    "    #to complete the converstion to a single value\n",
    "    \n",
    "    d = float(d)\n",
    "    \n",
    "    #ensure that if a negative degree is\n",
    "    #used the other inputs are also negative\n",
    "    if (d<0):\n",
    "        m = float((m/60.0)*-1)\n",
    "        s = float((s/3600.0)*-1)\n",
    "    else:\n",
    "        m = float(m/60.0)\n",
    "        s = float(s/3600.0)\n",
    "    \n",
    "    #combine the converted values\n",
    "    dd = s+m+d\n",
    "    \n",
    "    return dd\n",
    "\n",
    "#function to convert decimal degrees to dms\n",
    "def dd2dms(dd):\n",
    "    \n",
    "    #find the whole degrees and assign them to d\n",
    "    d = int(math.floor(dd))\n",
    "    \n",
    "    #single out the remainder of the dd and convert to whole minutes\n",
    "    remainder = dd-d\n",
    "    m = int(math.floor(remainder*60.0))\n",
    "    \n",
    "    #find the remainder of the minutes and convert to seconds\n",
    "    s = ((remainder*60)-m)*60\n",
    "    \n",
    "    #return the concatenated values\n",
    "    return d, m, s\n",
    "\n",
    "\n",
    "#add a main program that collects DD or DMS input from the user, then convert it to the other form and report the converted value\n",
    "#create main function, allows program to be read into other programs\n",
    "\n",
    "if __name__== \"__main__\":\n",
    "    #request user input\n",
    "    cord = input(\"Please enter a latitude or longitude value in DMS or DD format. \")\n",
    "    #clean input string\n",
    "    cordClean = cord.split(\",\")\n",
    "    #return input as interger list\n",
    "    results = list(map(float, cordClean))\n",
    "        \n",
    "    #test for dms or dd based on length of returned list\n",
    "    if (len(results) > 1):\n",
    "        #assign variables based on place in list\n",
    "        d = results[0]\n",
    "        m = results[1]\n",
    "        s = results[2]\n",
    "    \n",
    "        print(\"\\nThe input is in DMS form\")\n",
    "        #run through function to convert\n",
    "        dd = dms2dd(d,m,s)\n",
    "        print (\"Its DD form is\", dd)\n",
    "        \n",
    "    elif (len(results) == 1):\n",
    "        print(\"\\nThe input is in DD form\")\n",
    "        #convert\n",
    "        dms = dd2dms(results[0])\n",
    "        print (\"Its DD form is\", dms)\n",
    "\n",
    "\n",
    "# Provided lists\n",
    "city = [\"Tokyo\",\"New Delhi\",\"Sao Paulo\",\"Mumbai\",\"Mexico City\"]\n",
    "population = [23.3,3.53,7.62,5.81,8.77]\n",
    "\n",
    "#zip the two lists together using internal python function, convert to a dictonary\n",
    "cityPop = dict(zip(city, population))\n",
    "print(cityPop)\n",
    "    "
   ]
  },
  {
   "cell_type": "code",
   "execution_count": 5,
   "metadata": {},
   "outputs": [
    {
     "name": "stdout",
     "output_type": "stream",
     "text": [
      "23.753333333333334\n"
     ]
    }
   ],
   "source": [
    "#create a function which returns inputed degrees, minutes,\n",
    "#and seconds as decimal degrees\n",
    "def dms2dd(d,m,s):\n",
    "    #convert dms to dd\n",
    "    \n",
    "    #convert inputed values and add them together\n",
    "    #to complete the converstion to a single value\n",
    "    \n",
    "    d = float(d)\n",
    "    \n",
    "    #ensure that if a negative degree is\n",
    "    #used the other inputs are also negative\n",
    "    if (d<0):\n",
    "        m = float((m/60.0)*-1)\n",
    "        s = float((s/3600.0)*-1)\n",
    "    else:\n",
    "        m = float(m/60.0)\n",
    "        s = float(s/3600.0)\n",
    "    \n",
    "    #combine the converted values\n",
    "    dd = s+m+d\n",
    "    \n",
    "    return dd\n",
    "\n",
    "print(dms2dd(23,45,12))"
   ]
  },
  {
   "cell_type": "code",
   "execution_count": null,
   "metadata": {},
   "outputs": [],
   "source": []
  }
 ],
 "metadata": {
  "kernelspec": {
   "display_name": "Python 3",
   "language": "python",
   "name": "python3"
  },
  "language_info": {
   "codemirror_mode": {
    "name": "ipython",
    "version": 3
   },
   "file_extension": ".py",
   "mimetype": "text/x-python",
   "name": "python",
   "nbconvert_exporter": "python",
   "pygments_lexer": "ipython3",
   "version": "3.6.2"
  }
 },
 "nbformat": 4,
 "nbformat_minor": 2
}
